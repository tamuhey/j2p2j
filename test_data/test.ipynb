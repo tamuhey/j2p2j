{
  "cells": [
    {
      "execution_count": 0,
      "outputs": [],
      "cell_type": "code",
      "metadata": {
        "version": 1
      },
      "source": [
        "a = 1\n",
        "print(a+1)"
      ]
    },
    {
      "cell_type": "markdown",
      "metadata": {},
      "source": [
        "# test notebook\n",
        "\n",
        "- 1\n",
        "- 2"
      ]
    },
    {
      "execution_count": 0,
      "outputs": [],
      "cell_type": "code",
      "metadata": {
        "version": 1
      },
      "source": [
        "1\n",
        "2\n",
        "3\n",
        "def test():\n",
        "    if 1 == 1:\n",
        "        return 2\n",
        "    else:\n",
        "        return 3"
      ]
    },
    {
      "execution_count": 0,
      "outputs": [],
      "cell_type": "code",
      "metadata": {
        "version": 1
      },
      "source": [
        "4\n",
        "5"
      ]
    },
    {
      "cell_type": "markdown",
      "metadata": {},
      "source": [
        "test"
      ]
    },
    {
      "execution_count": 0,
      "outputs": [],
      "cell_type": "code",
      "metadata": {
        "version": 1
      },
      "source": [
        "6"
      ]
    }
  ],
  "metadata": {
    "kernelspec": {
      "display_name": "Python 3",
      "language": "python",
      "name": "python3"
    },
    "language_info": {
      "codemirror_mode": {
        "name": "ipython",
        "version": 3
      },
      "file_extension": ".py",
      "mimetype": "text/x-python",
      "name": "python",
      "nbconvert_exporter": "python",
      "pygments_lexer": "ipython3",
      "version": "3.6.7"
    }
  },
  "nbformat": 4,
  "nbformat_minor": 2
}